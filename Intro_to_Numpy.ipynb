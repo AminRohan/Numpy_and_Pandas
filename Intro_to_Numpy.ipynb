{
 "cells": [
  {
   "cell_type": "markdown",
   "id": "a861601f",
   "metadata": {},
   "source": [
    "# <font color= 'teal'>_Numpy_ :</font>\n",
    "   <font size = 3.5> Numpy stands for Numerical Python and it is the core library for numeric and scientific computing. </font>\n",
    "  \n"
   ]
  },
  {
   "cell_type": "markdown",
   "id": "dbec8066",
   "metadata": {},
   "source": [
    "### Single Dimensional Array\n"
   ]
  },
  {
   "cell_type": "code",
   "execution_count": 1,
   "id": "1581fa58",
   "metadata": {},
   "outputs": [],
   "source": [
    "import numpy as np"
   ]
  },
  {
   "cell_type": "code",
   "execution_count": 3,
   "id": "fa532b1b",
   "metadata": {},
   "outputs": [
    {
     "data": {
      "text/plain": [
       "array([10, 20, 30, 40])"
      ]
     },
     "execution_count": 3,
     "metadata": {},
     "output_type": "execute_result"
    }
   ],
   "source": [
    "n1 = np.array([10,20,30,40])\n",
    "n1\n"
   ]
  },
  {
   "cell_type": "code",
   "execution_count": 4,
   "id": "019a3a53",
   "metadata": {},
   "outputs": [
    {
     "data": {
      "text/plain": [
       "numpy.ndarray"
      ]
     },
     "execution_count": 4,
     "metadata": {},
     "output_type": "execute_result"
    }
   ],
   "source": [
    "type(n1)"
   ]
  },
  {
   "cell_type": "markdown",
   "id": "379466fe",
   "metadata": {},
   "source": [
    "### Multi Dimensional Array"
   ]
  },
  {
   "cell_type": "code",
   "execution_count": 6,
   "id": "b4aec164",
   "metadata": {},
   "outputs": [
    {
     "data": {
      "text/plain": [
       "array([[ 1,  2,  3,  4,  5,  6],\n",
       "       [10, 20, 30, 40, 50, 60]])"
      ]
     },
     "execution_count": 6,
     "metadata": {},
     "output_type": "execute_result"
    }
   ],
   "source": [
    "n2 = np.array([[1,2,3,4,5,6],[10,20,30,40,50,60]])\n",
    "n2"
   ]
  },
  {
   "cell_type": "code",
   "execution_count": 7,
   "id": "48fc2ae4",
   "metadata": {},
   "outputs": [
    {
     "data": {
      "text/plain": [
       "numpy.ndarray"
      ]
     },
     "execution_count": 7,
     "metadata": {},
     "output_type": "execute_result"
    }
   ],
   "source": [
    "type(n2)"
   ]
  },
  {
   "cell_type": "markdown",
   "id": "5b5a1bbc",
   "metadata": {},
   "source": [
    "### Initializing Numpy array with Zeros"
   ]
  },
  {
   "cell_type": "code",
   "execution_count": 12,
   "id": "b8ea73c4",
   "metadata": {},
   "outputs": [
    {
     "data": {
      "text/plain": [
       "array([[0., 0., 0., 0.],\n",
       "       [0., 0., 0., 0.]])"
      ]
     },
     "execution_count": 12,
     "metadata": {},
     "output_type": "execute_result"
    }
   ],
   "source": [
    "n3 = np.zeros((2,4))\n",
    "n3"
   ]
  },
  {
   "cell_type": "code",
   "execution_count": 11,
   "id": "4d6a1d8c",
   "metadata": {},
   "outputs": [
    {
     "data": {
      "text/plain": [
       "array([[0., 0., 0., 0., 0.],\n",
       "       [0., 0., 0., 0., 0.],\n",
       "       [0., 0., 0., 0., 0.],\n",
       "       [0., 0., 0., 0., 0.],\n",
       "       [0., 0., 0., 0., 0.]])"
      ]
     },
     "execution_count": 11,
     "metadata": {},
     "output_type": "execute_result"
    }
   ],
   "source": [
    "n4 = np.zeros((5,5))\n",
    "n4"
   ]
  },
  {
   "cell_type": "markdown",
   "id": "48dfa810",
   "metadata": {},
   "source": [
    "### Initialize Numpy array with same number"
   ]
  },
  {
   "cell_type": "code",
   "execution_count": 14,
   "id": "7845d1ec",
   "metadata": {},
   "outputs": [
    {
     "data": {
      "text/plain": [
       "array([[10, 10, 10, 10, 10],\n",
       "       [10, 10, 10, 10, 10],\n",
       "       [10, 10, 10, 10, 10],\n",
       "       [10, 10, 10, 10, 10],\n",
       "       [10, 10, 10, 10, 10]])"
      ]
     },
     "execution_count": 14,
     "metadata": {},
     "output_type": "execute_result"
    }
   ],
   "source": [
    "n5 = np.full((5,5),10)\n",
    "n5"
   ]
  },
  {
   "cell_type": "code",
   "execution_count": 16,
   "id": "0f53d0a4",
   "metadata": {},
   "outputs": [
    {
     "data": {
      "text/plain": [
       "array([[111, 111, 111, 111, 111, 111],\n",
       "       [111, 111, 111, 111, 111, 111]])"
      ]
     },
     "execution_count": 16,
     "metadata": {},
     "output_type": "execute_result"
    }
   ],
   "source": [
    "n6 = np.full((2,6),111)\n",
    "n6"
   ]
  },
  {
   "cell_type": "markdown",
   "id": "bf78a6ad",
   "metadata": {},
   "source": [
    "### Initialize Numpy array within a particular range"
   ]
  },
  {
   "cell_type": "code",
   "execution_count": 17,
   "id": "9c4dae6f",
   "metadata": {},
   "outputs": [
    {
     "data": {
      "text/plain": [
       "array([10, 11, 12, 13, 14, 15, 16, 17, 18, 19, 20, 21, 22, 23, 24, 25, 26,\n",
       "       27, 28, 29, 30, 31, 32, 33, 34, 35, 36, 37, 38, 39, 40, 41, 42, 43,\n",
       "       44, 45, 46, 47, 48, 49, 50])"
      ]
     },
     "execution_count": 17,
     "metadata": {},
     "output_type": "execute_result"
    }
   ],
   "source": [
    "n7 = np.arange(10,51)\n",
    "n7"
   ]
  },
  {
   "cell_type": "code",
   "execution_count": 21,
   "id": "e8136bf7",
   "metadata": {},
   "outputs": [
    {
     "data": {
      "text/plain": [
       "array([  0,   5,  10,  15,  20,  25,  30,  35,  40,  45,  50,  55,  60,\n",
       "        65,  70,  75,  80,  85,  90,  95, 100])"
      ]
     },
     "execution_count": 21,
     "metadata": {},
     "output_type": "execute_result"
    }
   ],
   "source": [
    "n8 = np.arange(0,101,5)\n",
    "n8"
   ]
  },
  {
   "cell_type": "markdown",
   "id": "26474ac3",
   "metadata": {},
   "source": [
    "### Initialize Numpy array with random numbers"
   ]
  },
  {
   "cell_type": "code",
   "execution_count": 24,
   "id": "d291d024",
   "metadata": {},
   "outputs": [
    {
     "data": {
      "text/plain": [
       "array([44, 31, 24, 10, 47])"
      ]
     },
     "execution_count": 24,
     "metadata": {},
     "output_type": "execute_result"
    }
   ],
   "source": [
    "n9 = np.random.randint(10,50,5)\n",
    "n9"
   ]
  },
  {
   "cell_type": "markdown",
   "id": "467c6e9c",
   "metadata": {},
   "source": [
    "### Checking the Shape of an Array"
   ]
  },
  {
   "cell_type": "code",
   "execution_count": 25,
   "id": "f0c079f1",
   "metadata": {},
   "outputs": [
    {
     "data": {
      "text/plain": [
       "array([[1, 2, 3, 4],\n",
       "       [5, 6, 7, 8]])"
      ]
     },
     "execution_count": 25,
     "metadata": {},
     "output_type": "execute_result"
    }
   ],
   "source": [
    "n10 = np.array([[1,2,3,4],[5,6,7,8]])\n",
    "n10"
   ]
  },
  {
   "cell_type": "code",
   "execution_count": 26,
   "id": "ebad6745",
   "metadata": {},
   "outputs": [
    {
     "data": {
      "text/plain": [
       "(2, 4)"
      ]
     },
     "execution_count": 26,
     "metadata": {},
     "output_type": "execute_result"
    }
   ],
   "source": [
    "n10.shape"
   ]
  },
  {
   "cell_type": "code",
   "execution_count": 28,
   "id": "7774e854",
   "metadata": {},
   "outputs": [],
   "source": [
    "n10.shape = (4,2)"
   ]
  },
  {
   "cell_type": "code",
   "execution_count": 29,
   "id": "6ca8c3ef",
   "metadata": {},
   "outputs": [
    {
     "data": {
      "text/plain": [
       "array([[1, 2],\n",
       "       [3, 4],\n",
       "       [5, 6],\n",
       "       [7, 8]])"
      ]
     },
     "execution_count": 29,
     "metadata": {},
     "output_type": "execute_result"
    }
   ],
   "source": [
    "n10"
   ]
  },
  {
   "cell_type": "markdown",
   "id": "d2c0b003",
   "metadata": {},
   "source": [
    "***"
   ]
  },
  {
   "cell_type": "markdown",
   "id": "5fc4fd23",
   "metadata": {},
   "source": [
    "## Joining Numpy Arrays\n",
    "   ##### vstack()\n",
    "   ##### hstack()\n",
    "   ##### column_stack()"
   ]
  },
  {
   "cell_type": "code",
   "execution_count": 30,
   "id": "ae35b058",
   "metadata": {},
   "outputs": [],
   "source": [
    "n11 = np.array([1,2,3,4])\n",
    "n12 = np.array([5,6,7,8])"
   ]
  },
  {
   "cell_type": "code",
   "execution_count": 31,
   "id": "69c64a30",
   "metadata": {},
   "outputs": [
    {
     "data": {
      "text/plain": [
       "array([[1, 2, 3, 4],\n",
       "       [5, 6, 7, 8]])"
      ]
     },
     "execution_count": 31,
     "metadata": {},
     "output_type": "execute_result"
    }
   ],
   "source": [
    "np.vstack((n11,n12))"
   ]
  },
  {
   "cell_type": "code",
   "execution_count": 32,
   "id": "f59b60f3",
   "metadata": {},
   "outputs": [
    {
     "data": {
      "text/plain": [
       "array([1, 2, 3, 4, 5, 6, 7, 8])"
      ]
     },
     "execution_count": 32,
     "metadata": {},
     "output_type": "execute_result"
    }
   ],
   "source": [
    "np.hstack((n11,n12))"
   ]
  },
  {
   "cell_type": "code",
   "execution_count": 33,
   "id": "8cb33d87",
   "metadata": {},
   "outputs": [
    {
     "data": {
      "text/plain": [
       "array([[1, 5],\n",
       "       [2, 6],\n",
       "       [3, 7],\n",
       "       [4, 8]])"
      ]
     },
     "execution_count": 33,
     "metadata": {},
     "output_type": "execute_result"
    }
   ],
   "source": [
    "np.column_stack((n11,n12))"
   ]
  },
  {
   "cell_type": "markdown",
   "id": "450e967d",
   "metadata": {},
   "source": [
    "## Numpy Intersection & Difference"
   ]
  },
  {
   "cell_type": "code",
   "execution_count": 34,
   "id": "f9bb493d",
   "metadata": {},
   "outputs": [],
   "source": [
    "n13 = np.array([10,20,30,40,50,60])\n",
    "n14 = np.array([50,60,70,80,90])"
   ]
  },
  {
   "cell_type": "code",
   "execution_count": 35,
   "id": "5d8efc10",
   "metadata": {},
   "outputs": [
    {
     "data": {
      "text/plain": [
       "array([50, 60])"
      ]
     },
     "execution_count": 35,
     "metadata": {},
     "output_type": "execute_result"
    }
   ],
   "source": [
    "np.intersect1d(n13,n14)"
   ]
  },
  {
   "cell_type": "code",
   "execution_count": 36,
   "id": "adb8f4c8",
   "metadata": {},
   "outputs": [
    {
     "data": {
      "text/plain": [
       "array([10, 20, 30, 40])"
      ]
     },
     "execution_count": 36,
     "metadata": {},
     "output_type": "execute_result"
    }
   ],
   "source": [
    "np.setdiff1d(n13,n14)"
   ]
  },
  {
   "cell_type": "code",
   "execution_count": 37,
   "id": "aa3500ce",
   "metadata": {},
   "outputs": [
    {
     "data": {
      "text/plain": [
       "array([70, 80, 90])"
      ]
     },
     "execution_count": 37,
     "metadata": {},
     "output_type": "execute_result"
    }
   ],
   "source": [
    "np.setdiff1d(n14,n13)"
   ]
  },
  {
   "cell_type": "markdown",
   "id": "0d354d81",
   "metadata": {},
   "source": [
    "### Numpy Array Mathematics"
   ]
  },
  {
   "cell_type": "code",
   "execution_count": 38,
   "id": "c4ec0e73",
   "metadata": {},
   "outputs": [],
   "source": [
    "n15 = np.array([10,20])\n",
    "n16 = np.array([30,40])"
   ]
  },
  {
   "cell_type": "code",
   "execution_count": 39,
   "id": "4a1f60d5",
   "metadata": {},
   "outputs": [
    {
     "data": {
      "text/plain": [
       "100"
      ]
     },
     "execution_count": 39,
     "metadata": {},
     "output_type": "execute_result"
    }
   ],
   "source": [
    "np.sum([n15,n16])"
   ]
  },
  {
   "cell_type": "code",
   "execution_count": 40,
   "id": "33f522e7",
   "metadata": {},
   "outputs": [
    {
     "data": {
      "text/plain": [
       "array([40, 60])"
      ]
     },
     "execution_count": 40,
     "metadata": {},
     "output_type": "execute_result"
    }
   ],
   "source": [
    "np.sum([n15,n16], axis = 0)"
   ]
  },
  {
   "cell_type": "code",
   "execution_count": 41,
   "id": "df6c58c6",
   "metadata": {},
   "outputs": [
    {
     "data": {
      "text/plain": [
       "array([30, 70])"
      ]
     },
     "execution_count": 41,
     "metadata": {},
     "output_type": "execute_result"
    }
   ],
   "source": [
    "np.sum([n15,n16], axis = 1)"
   ]
  },
  {
   "cell_type": "markdown",
   "id": "327b6081",
   "metadata": {},
   "source": [
    "### Numpy Array Basic Mathematics"
   ]
  },
  {
   "cell_type": "markdown",
   "id": "fb2ff84b",
   "metadata": {},
   "source": [
    "##### Basic Addition"
   ]
  },
  {
   "cell_type": "code",
   "execution_count": 42,
   "id": "0880ab7e",
   "metadata": {},
   "outputs": [],
   "source": [
    "n17 = np.array([10,20,30,40])"
   ]
  },
  {
   "cell_type": "code",
   "execution_count": 44,
   "id": "ded0dbf0",
   "metadata": {},
   "outputs": [
    {
     "data": {
      "text/plain": [
       "array([110, 120, 130, 140])"
      ]
     },
     "execution_count": 44,
     "metadata": {},
     "output_type": "execute_result"
    }
   ],
   "source": [
    "n17 + 100 "
   ]
  },
  {
   "cell_type": "markdown",
   "id": "5c96746a",
   "metadata": {},
   "source": [
    "##### Basic Subtraction"
   ]
  },
  {
   "cell_type": "code",
   "execution_count": 45,
   "id": "d57064c0",
   "metadata": {},
   "outputs": [
    {
     "data": {
      "text/plain": [
       "array([ 5, 15, 25, 35])"
      ]
     },
     "execution_count": 45,
     "metadata": {},
     "output_type": "execute_result"
    }
   ],
   "source": [
    "n17 - 5"
   ]
  },
  {
   "cell_type": "markdown",
   "id": "720096a9",
   "metadata": {},
   "source": [
    "##### Basic Multiplication"
   ]
  },
  {
   "cell_type": "code",
   "execution_count": 46,
   "id": "4f568939",
   "metadata": {},
   "outputs": [
    {
     "data": {
      "text/plain": [
       "array([ 50, 100, 150, 200])"
      ]
     },
     "execution_count": 46,
     "metadata": {},
     "output_type": "execute_result"
    }
   ],
   "source": [
    "n17 * 5"
   ]
  },
  {
   "cell_type": "markdown",
   "id": "94c222fe",
   "metadata": {},
   "source": [
    "##### Basic Division"
   ]
  },
  {
   "cell_type": "code",
   "execution_count": 47,
   "id": "55eaa454",
   "metadata": {},
   "outputs": [
    {
     "data": {
      "text/plain": [
       "array([1., 2., 3., 4.])"
      ]
     },
     "execution_count": 47,
     "metadata": {},
     "output_type": "execute_result"
    }
   ],
   "source": [
    "n17/10"
   ]
  },
  {
   "cell_type": "markdown",
   "id": "b9f351ce",
   "metadata": {},
   "source": [
    "***"
   ]
  },
  {
   "cell_type": "markdown",
   "id": "66d742d0",
   "metadata": {},
   "source": [
    "### Numpy Mean"
   ]
  },
  {
   "cell_type": "code",
   "execution_count": 48,
   "id": "83b07394",
   "metadata": {},
   "outputs": [],
   "source": [
    "n18 = np.array([10,25,33,48,50])"
   ]
  },
  {
   "cell_type": "code",
   "execution_count": 49,
   "id": "a918e184",
   "metadata": {},
   "outputs": [
    {
     "data": {
      "text/plain": [
       "33.2"
      ]
     },
     "execution_count": 49,
     "metadata": {},
     "output_type": "execute_result"
    }
   ],
   "source": [
    "np.mean(n18)"
   ]
  },
  {
   "cell_type": "markdown",
   "id": "7f824a2f",
   "metadata": {},
   "source": [
    "### Numpy Standard Deviation"
   ]
  },
  {
   "cell_type": "code",
   "execution_count": 50,
   "id": "3cbf7564",
   "metadata": {},
   "outputs": [
    {
     "data": {
      "text/plain": [
       "14.878171930717832"
      ]
     },
     "execution_count": 50,
     "metadata": {},
     "output_type": "execute_result"
    }
   ],
   "source": [
    "np.std(n18)"
   ]
  },
  {
   "cell_type": "markdown",
   "id": "36c03d00",
   "metadata": {},
   "source": [
    "### Numpy Median"
   ]
  },
  {
   "cell_type": "code",
   "execution_count": 56,
   "id": "2c801360",
   "metadata": {},
   "outputs": [
    {
     "data": {
      "text/plain": [
       "33.0"
      ]
     },
     "execution_count": 56,
     "metadata": {},
     "output_type": "execute_result"
    }
   ],
   "source": [
    "np.median(n18)"
   ]
  },
  {
   "cell_type": "markdown",
   "id": "dd6f8b8e",
   "metadata": {},
   "source": [
    "***"
   ]
  },
  {
   "cell_type": "markdown",
   "id": "e8c95e4a",
   "metadata": {},
   "source": [
    "## Saving & Loading Numpy Array"
   ]
  },
  {
   "cell_type": "code",
   "execution_count": 52,
   "id": "8a8e0b98",
   "metadata": {},
   "outputs": [],
   "source": [
    "n19 = np.array([10,20,30,40,50,60])"
   ]
  },
  {
   "cell_type": "code",
   "execution_count": 53,
   "id": "7b411ef0",
   "metadata": {},
   "outputs": [],
   "source": [
    "np.save('final_array',n19)"
   ]
  },
  {
   "cell_type": "code",
   "execution_count": 54,
   "id": "397e775d",
   "metadata": {},
   "outputs": [],
   "source": [
    "n20 = np.load('final_array.npy')"
   ]
  },
  {
   "cell_type": "code",
   "execution_count": 55,
   "id": "7a56dd48",
   "metadata": {},
   "outputs": [
    {
     "data": {
      "text/plain": [
       "array([10, 20, 30, 40, 50, 60])"
      ]
     },
     "execution_count": 55,
     "metadata": {},
     "output_type": "execute_result"
    }
   ],
   "source": [
    "n20"
   ]
  },
  {
   "cell_type": "code",
   "execution_count": null,
   "id": "2d24c30d",
   "metadata": {},
   "outputs": [],
   "source": []
  }
 ],
 "metadata": {
  "kernelspec": {
   "display_name": "Python 3",
   "language": "python",
   "name": "python3"
  },
  "language_info": {
   "codemirror_mode": {
    "name": "ipython",
    "version": 3
   },
   "file_extension": ".py",
   "mimetype": "text/x-python",
   "name": "python",
   "nbconvert_exporter": "python",
   "pygments_lexer": "ipython3",
   "version": "3.8.8"
  }
 },
 "nbformat": 4,
 "nbformat_minor": 5
}
